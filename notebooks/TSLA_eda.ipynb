{
 "cells": [
  {
   "cell_type": "code",
   "execution_count": 5,
   "id": "cec16673",
   "metadata": {},
   "outputs": [
    {
     "name": "stdout",
     "output_type": "stream",
     "text": [
      "Summary Statistics:\n",
      "               Open         High          Low        Close    Adj Close  \\\n",
      "count  3545.000000  3545.000000  3545.000000  3545.000000  3545.000000   \n",
      "mean     75.505658    77.159237    73.743492    75.487264    75.487264   \n",
      "std     102.530489   104.806516   100.051787   102.456615   102.456615   \n",
      "min       1.076000     1.108667     0.998667     1.053333     1.053333   \n",
      "25%      11.516667    11.861333    11.216667    11.565333    11.565333   \n",
      "50%      17.463333    17.688667    17.100000    17.459333    17.459333   \n",
      "75%     161.880005   165.333328   158.360001   161.479996   161.479996   \n",
      "max     411.470001   414.496674   405.666656   409.970001   409.970001   \n",
      "\n",
      "             Volume  Dividends  Stock Splits  \n",
      "count  3.545000e+03     3545.0   3545.000000  \n",
      "mean   9.699708e+07        0.0      0.002257  \n",
      "std    7.866828e+07        0.0      0.097921  \n",
      "min    1.777500e+06        0.0      0.000000  \n",
      "25%    4.770600e+07        0.0      0.000000  \n",
      "50%    8.250600e+07        0.0      0.000000  \n",
      "75%    1.228890e+08        0.0      0.000000  \n",
      "max    9.140820e+08        0.0      5.000000  \n",
      "\n",
      "Missing Value Report:\n",
      " Date            0\n",
      "Open            0\n",
      "High            0\n",
      "Low             0\n",
      "Close           0\n",
      "Adj Close       0\n",
      "Volume          0\n",
      "Dividends       0\n",
      "Stock Splits    0\n",
      "dtype: int64\n",
      "\n",
      "Columns with >5% nulls:\n",
      " []\n"
     ]
    }
   ],
   "source": [
    "import pandas as pd\n",
    "from utils import load_data\n",
    "\n",
    "# Load the data\n",
    "df = load_data('TSLA_historical_data.csv', base_dir='../data/yfinance_data')\n",
    "\n",
    "# Summary statistics for all numeric columns\n",
    "summary_stats = df.describe()\n",
    "\n",
    "# Missing value report\n",
    "missing_values = df.isna().sum()\n",
    "\n",
    "# List columns with >5% nulls\n",
    "threshold = 0.05 * len(df)\n",
    "columns_with_many_nulls = missing_values[missing_values > threshold].index.tolist()\n",
    "\n",
    "print(\"Summary Statistics:\\n\", summary_stats)\n",
    "print(\"\\nMissing Value Report:\\n\", missing_values)\n",
    "print(\"\\nColumns with >5% nulls:\\n\", columns_with_many_nulls)"
   ]
  },
  {
   "cell_type": "code",
   "execution_count": null,
   "id": "e175d841",
   "metadata": {},
   "outputs": [],
   "source": []
  }
 ],
 "metadata": {
  "kernelspec": {
   "display_name": ".venv",
   "language": "python",
   "name": "python3"
  },
  "language_info": {
   "codemirror_mode": {
    "name": "ipython",
    "version": 3
   },
   "file_extension": ".py",
   "mimetype": "text/x-python",
   "name": "python",
   "nbconvert_exporter": "python",
   "pygments_lexer": "ipython3",
   "version": "3.13.3"
  }
 },
 "nbformat": 4,
 "nbformat_minor": 5
}
