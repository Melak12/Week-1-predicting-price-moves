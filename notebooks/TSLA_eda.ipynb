{
 "cells": [
  {
   "cell_type": "code",
   "execution_count": null,
   "id": "cec16673",
   "metadata": {},
   "outputs": [
    {
     "ename": "",
     "evalue": "",
     "output_type": "error",
     "traceback": [
      "\u001b[1;31mRunning cells with '.venv (Python 3.13.3)' requires the ipykernel package.\n",
      "\u001b[1;31mInstall 'ipykernel' into the Python environment. \n",
      "\u001b[1;31mCommand: 'd:/active_repos/10_academy/Week-1-predicting-price-moves/.venv/Scripts/python.exe -m pip install ipykernel -U --force-reinstall'"
     ]
    }
   ],
   "source": [
    "import pandas as pd\n",
    "\n",
    "# Load the data\n",
    "df = pd.read_csv('data/yfinance_data/TSLA_historical_data.csv')\n",
    "\n",
    "# Summary statistics for all numeric columns\n",
    "summary_stats = df.describe()\n",
    "\n",
    "# Missing value report\n",
    "missing_values = df.isna().sum()\n",
    "\n",
    "# List columns with >5% nulls\n",
    "threshold = 0.05 * len(df)\n",
    "columns_with_many_nulls = missing_values[missing_values > threshold].index.tolist()\n",
    "\n",
    "print(\"Summary Statistics:\\n\", summary_stats)\n",
    "print(\"\\nMissing Value Report:\\n\", missing_values)\n",
    "print(\"\\nColumns with >5% nulls:\\n\", columns_with_many_nulls)"
   ]
  }
 ],
 "metadata": {
  "kernelspec": {
   "display_name": ".venv",
   "language": "python",
   "name": "python3"
  },
  "language_info": {
   "name": "python",
   "version": "3.13.3"
  }
 },
 "nbformat": 4,
 "nbformat_minor": 5
}
